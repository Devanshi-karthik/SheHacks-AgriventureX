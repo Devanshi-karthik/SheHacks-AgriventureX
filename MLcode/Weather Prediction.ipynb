{
  "nbformat": 4,
  "nbformat_minor": 0,
  "metadata": {
    "colab": {
      "name": "multivariate.ipynb",
      "provenance": []
    },
    "kernelspec": {
      "name": "python3",
      "display_name": "Python 3"
    }
  },
  "cells": [
    {
      "cell_type": "markdown",
      "metadata": {
        "id": "yhHYkGoeO0X3"
      },
      "source": [
        "**<h1> Multivariate Prediction For Weather using LSTM</h1>**\n",
        "\n",
        "We will be doing a multivariate analysis for weather prediction."
      ]
    },
    {
      "cell_type": "markdown",
      "metadata": {
        "id": "2MQH-OHZPIC-"
      },
      "source": [
        "**<h2> Importing Libraries</h2>**"
      ]
    },
    {
      "cell_type": "code",
      "metadata": {
        "id": "hnq2YSSxRELD",
        "outputId": "70c2c0d0-2c29-47fe-8284-cb47824e2a58",
        "colab": {
          "base_uri": "https://localhost:8080/",
          "height": 34
        }
      },
      "source": [
        "import sys\n",
        "import keras\n",
        "import cv2\n",
        "import numpy as np\n",
        "import matplotlib.pyplot as plt\n",
        "import skimage\n",
        "import math\n",
        "import os\n",
        "import h5py\n",
        "import tensorflow as tf\n",
        "print(tf.__version__)"
      ],
      "execution_count": 1,
      "outputs": [
        {
          "output_type": "stream",
          "text": [
            "2.3.0\n"
          ],
          "name": "stdout"
        }
      ]
    },
    {
      "cell_type": "markdown",
      "metadata": {
        "id": "Vp6XRn8bPONq"
      },
      "source": [
        "**<h2>Mounting Drive</h2>**"
      ]
    },
    {
      "cell_type": "code",
      "metadata": {
        "id": "tbMGC7bYRooq",
        "outputId": "325925a7-9f80-4c6f-8ea3-cc8150a2ea8e",
        "colab": {
          "base_uri": "https://localhost:8080/",
          "height": 34
        }
      },
      "source": [
        "from google.colab import drive\n",
        "drive.mount('/content/drive')"
      ],
      "execution_count": null,
      "outputs": [
        {
          "output_type": "stream",
          "text": [
            "Mounted at /content/drive\n"
          ],
          "name": "stdout"
        }
      ]
    },
    {
      "cell_type": "markdown",
      "metadata": {
        "id": "8lJjrNwkPaFn"
      },
      "source": [
        "**<h2> Windowing Function </h2>**\n",
        "\n",
        "It will return the windowed data to us."
      ]
    },
    {
      "cell_type": "code",
      "metadata": {
        "id": "0RN8FbeGR-16"
      },
      "source": [
        "def windowed_dataset(series, window_size = 17,predday = 1, batch_size = 17, shuffle_buffer= 100):\n",
        "    ds = tf.data.Dataset.from_tensor_slices(series)\n",
        "    ds = ds.window(window_size + predday, shift=1, drop_remainder=True)\n",
        "    ds = ds.flat_map(lambda w: w.batch(window_size + predday))\n",
        "    ds = ds.shuffle(shuffle_buffer)\n",
        "    ds = ds.map(lambda w: (w[:-predday], tf.squeeze(w[-predday:])))\n",
        "    return ds.batch(batch_size).prefetch(1)"
      ],
      "execution_count": null,
      "outputs": []
    },
    {
      "cell_type": "markdown",
      "metadata": {
        "id": "HD-yetn4Pjcr"
      },
      "source": [
        "**<h2>Uploading Data</h2>**"
      ]
    },
    {
      "cell_type": "code",
      "metadata": {
        "id": "lCwqVP1eR4f3",
        "outputId": "8f1d49c7-55ca-453f-aca7-40d6d9ab1639",
        "colab": {
          "base_uri": "https://localhost:8080/",
          "height": 206
        }
      },
      "source": [
        "import pandas as pd\n",
        "weather_data = pd.read_csv(r\"/content/drive/My Drive/weather/lucknow1.csv\")\n",
        "weather_data.head()"
      ],
      "execution_count": null,
      "outputs": [
        {
          "output_type": "execute_result",
          "data": {
            "text/html": [
              "<div>\n",
              "<style scoped>\n",
              "    .dataframe tbody tr th:only-of-type {\n",
              "        vertical-align: middle;\n",
              "    }\n",
              "\n",
              "    .dataframe tbody tr th {\n",
              "        vertical-align: top;\n",
              "    }\n",
              "\n",
              "    .dataframe thead th {\n",
              "        text-align: right;\n",
              "    }\n",
              "</style>\n",
              "<table border=\"1\" class=\"dataframe\">\n",
              "  <thead>\n",
              "    <tr style=\"text-align: right;\">\n",
              "      <th></th>\n",
              "      <th>Year</th>\n",
              "      <th>Month</th>\n",
              "      <th>tmax(degC)</th>\n",
              "      <th>tmin(degC)</th>\n",
              "      <th>ppt(mm)</th>\n",
              "    </tr>\n",
              "  </thead>\n",
              "  <tbody>\n",
              "    <tr>\n",
              "      <th>0</th>\n",
              "      <td>1958</td>\n",
              "      <td>1</td>\n",
              "      <td>24.3</td>\n",
              "      <td>10.5</td>\n",
              "      <td>32</td>\n",
              "    </tr>\n",
              "    <tr>\n",
              "      <th>1</th>\n",
              "      <td>1958</td>\n",
              "      <td>2</td>\n",
              "      <td>26.8</td>\n",
              "      <td>11.6</td>\n",
              "      <td>3</td>\n",
              "    </tr>\n",
              "    <tr>\n",
              "      <th>2</th>\n",
              "      <td>1958</td>\n",
              "      <td>3</td>\n",
              "      <td>33.6</td>\n",
              "      <td>16.9</td>\n",
              "      <td>24</td>\n",
              "    </tr>\n",
              "    <tr>\n",
              "      <th>3</th>\n",
              "      <td>1958</td>\n",
              "      <td>4</td>\n",
              "      <td>39.8</td>\n",
              "      <td>23.4</td>\n",
              "      <td>1</td>\n",
              "    </tr>\n",
              "    <tr>\n",
              "      <th>4</th>\n",
              "      <td>1958</td>\n",
              "      <td>5</td>\n",
              "      <td>41.8</td>\n",
              "      <td>27.1</td>\n",
              "      <td>3</td>\n",
              "    </tr>\n",
              "  </tbody>\n",
              "</table>\n",
              "</div>"
            ],
            "text/plain": [
              "   Year  Month  tmax(degC)  tmin(degC)  ppt(mm)\n",
              "0  1958      1        24.3        10.5       32\n",
              "1  1958      2        26.8        11.6        3\n",
              "2  1958      3        33.6        16.9       24\n",
              "3  1958      4        39.8        23.4        1\n",
              "4  1958      5        41.8        27.1        3"
            ]
          },
          "metadata": {
            "tags": []
          },
          "execution_count": 6
        }
      ]
    },
    {
      "cell_type": "markdown",
      "metadata": {
        "id": "WFJ0UG5dPod5"
      },
      "source": [
        "**<h2>Preprocessing Data </h2>**"
      ]
    },
    {
      "cell_type": "code",
      "metadata": {
        "id": "I-7H4YeASViE"
      },
      "source": [
        "window=17\n",
        "cut=int(weather_data.shape[0]*0.8)"
      ],
      "execution_count": null,
      "outputs": []
    },
    {
      "cell_type": "code",
      "metadata": {
        "id": "VZztJHiMY2nG",
        "outputId": "5d2493aa-4e49-44cd-9028-b51294f685b1",
        "colab": {
          "base_uri": "https://localhost:8080/",
          "height": 34
        }
      },
      "source": [
        "weather_data.columns"
      ],
      "execution_count": null,
      "outputs": [
        {
          "output_type": "execute_result",
          "data": {
            "text/plain": [
              "Index(['Year', 'Month', 'tmax(degC)', 'tmin(degC)', 'ppt(mm)'], dtype='object')"
            ]
          },
          "metadata": {
            "tags": []
          },
          "execution_count": 8
        }
      ]
    },
    {
      "cell_type": "code",
      "metadata": {
        "id": "fThqfE-oYyhd"
      },
      "source": [
        "weather = weather_data[ [\"tmax(degC)\",\"tmin(degC)\",\"ppt(mm)\"]].values"
      ],
      "execution_count": null,
      "outputs": []
    },
    {
      "cell_type": "code",
      "metadata": {
        "id": "VY0bFvskZJRu",
        "outputId": "13645e71-7b07-4e1f-aff0-5505670b4025",
        "colab": {
          "base_uri": "https://localhost:8080/",
          "height": 52
        }
      },
      "source": [
        "from sklearn.preprocessing import StandardScaler\n",
        "scaler = StandardScaler()\n",
        "weather = scaler.fit_transform(weather)\n",
        "weather[:2]"
      ],
      "execution_count": null,
      "outputs": [
        {
          "output_type": "execute_result",
          "data": {
            "text/plain": [
              "array([[-1.42510128, -1.26976712, -0.41560113],\n",
              "       [-0.97459508, -1.11747545, -0.67052679]])"
            ]
          },
          "metadata": {
            "tags": []
          },
          "execution_count": 9
        }
      ]
    },
    {
      "cell_type": "code",
      "metadata": {
        "id": "9d2y9hcTZUw8",
        "outputId": "5f1c2c2f-7f1a-4d94-dd4c-4ca409d1e158",
        "colab": {
          "base_uri": "https://localhost:8080/",
          "height": 34
        }
      },
      "source": [
        "train = weatheforecast = weather[-(window):]r[:cut]\n",
        "test = weather[cut:(-window)]\n",
        "forecast = weather[-(window):]\n",
        "print(train.shape , test.shape, forecast.shape)"
      ],
      "execution_count": null,
      "outputs": [
        {
          "output_type": "stream",
          "text": [
            "(595, 3) (132, 3) (17, 3)\n"
          ],
          "name": "stdout"
        }
      ]
    },
    {
      "cell_type": "code",
      "metadata": {
        "id": "vTyFqmB0ZmEP"
      },
      "source": [
        "trainbatches = windowed_dataset(train)\n",
        "testbatches = windowed_dataset(test)"
      ],
      "execution_count": null,
      "outputs": []
    },
    {
      "cell_type": "markdown",
      "metadata": {
        "id": "m0wx4j_oPwPv"
      },
      "source": [
        "**<h2> LSTM Model</h2>**"
      ]
    },
    {
      "cell_type": "code",
      "metadata": {
        "id": "OTE6tDVpZqJE",
        "outputId": "3f4d42b4-1f37-4920-c2f2-b1e501e47cd3",
        "colab": {
          "base_uri": "https://localhost:8080/",
          "height": 295
        }
      },
      "source": [
        "from tensorflow.keras import layers\n",
        "model = tf.keras.Sequential()\n",
        "model.add(layers.LSTM(32,input_shape=[None,3],return_sequences=True))\n",
        "model.add(layers.LSTM(32,return_sequences=True))\n",
        "model.add(layers.LSTM(16,return_sequences=True))\n",
        "model.add(layers.Dense(3,activation=\"selu\"))\n",
        "optimizer = tf.keras.optimizers.Adam()\n",
        "kl = tf.keras.losses.MeanSquaredError()\n",
        "model.compile(optimizer = optimizer, loss =kl)\n",
        "model.summary()"
      ],
      "execution_count": null,
      "outputs": [
        {
          "output_type": "stream",
          "text": [
            "Model: \"sequential\"\n",
            "_________________________________________________________________\n",
            "Layer (type)                 Output Shape              Param #   \n",
            "=================================================================\n",
            "lstm (LSTM)                  (None, None, 32)          4608      \n",
            "_________________________________________________________________\n",
            "lstm_1 (LSTM)                (None, None, 32)          8320      \n",
            "_________________________________________________________________\n",
            "lstm_2 (LSTM)                (None, None, 16)          3136      \n",
            "_________________________________________________________________\n",
            "dense (Dense)                (None, None, 3)           51        \n",
            "=================================================================\n",
            "Total params: 16,115\n",
            "Trainable params: 16,115\n",
            "Non-trainable params: 0\n",
            "_________________________________________________________________\n"
          ],
          "name": "stdout"
        }
      ]
    },
    {
      "cell_type": "code",
      "metadata": {
        "id": "cQgrXrBsZ4eD",
        "outputId": "f1a85acc-3c17-44c7-e141-f63300b980bb",
        "colab": {
          "base_uri": "https://localhost:8080/",
          "height": 1000
        }
      },
      "source": [
        "h = model.fit(trainbatches,epochs=100,verbose=1)\n",
        "hist = h.history\n"
      ],
      "execution_count": null,
      "outputs": [
        {
          "output_type": "stream",
          "text": [
            "Epoch 1/100\n",
            "34/34 [==============================] - 1s 20ms/step - loss: 0.9993\n",
            "Epoch 2/100\n",
            "34/34 [==============================] - 1s 20ms/step - loss: 0.9994\n",
            "Epoch 3/100\n",
            "34/34 [==============================] - 1s 22ms/step - loss: 0.9993\n",
            "Epoch 4/100\n",
            "34/34 [==============================] - 1s 20ms/step - loss: 0.9983\n",
            "Epoch 5/100\n",
            "34/34 [==============================] - 1s 20ms/step - loss: 0.9991\n",
            "Epoch 6/100\n",
            "34/34 [==============================] - 1s 20ms/step - loss: 1.0003\n",
            "Epoch 7/100\n",
            "34/34 [==============================] - 1s 22ms/step - loss: 0.9987\n",
            "Epoch 8/100\n",
            "34/34 [==============================] - 1s 20ms/step - loss: 0.9992\n",
            "Epoch 9/100\n",
            "34/34 [==============================] - 1s 20ms/step - loss: 0.9985\n",
            "Epoch 10/100\n",
            "34/34 [==============================] - 1s 20ms/step - loss: 1.0004\n",
            "Epoch 11/100\n",
            "34/34 [==============================] - 1s 20ms/step - loss: 0.9987\n",
            "Epoch 12/100\n",
            "34/34 [==============================] - 1s 20ms/step - loss: 0.9987\n",
            "Epoch 13/100\n",
            "34/34 [==============================] - 1s 21ms/step - loss: 0.9978\n",
            "Epoch 14/100\n",
            "34/34 [==============================] - 1s 20ms/step - loss: 0.9987\n",
            "Epoch 15/100\n",
            "34/34 [==============================] - 1s 23ms/step - loss: 0.9996\n",
            "Epoch 16/100\n",
            "34/34 [==============================] - 1s 20ms/step - loss: 1.0005\n",
            "Epoch 17/100\n",
            "34/34 [==============================] - 1s 21ms/step - loss: 0.9985\n",
            "Epoch 18/100\n",
            "34/34 [==============================] - 1s 20ms/step - loss: 1.0000\n",
            "Epoch 19/100\n",
            "34/34 [==============================] - 1s 20ms/step - loss: 0.9994\n",
            "Epoch 20/100\n",
            "34/34 [==============================] - 1s 20ms/step - loss: 0.9993\n",
            "Epoch 21/100\n",
            "34/34 [==============================] - 1s 21ms/step - loss: 0.9979\n",
            "Epoch 22/100\n",
            "34/34 [==============================] - 1s 20ms/step - loss: 1.0001\n",
            "Epoch 23/100\n",
            "34/34 [==============================] - 1s 21ms/step - loss: 0.9995\n",
            "Epoch 24/100\n",
            "34/34 [==============================] - 1s 21ms/step - loss: 0.9994\n",
            "Epoch 25/100\n",
            "34/34 [==============================] - 1s 20ms/step - loss: 0.9993\n",
            "Epoch 26/100\n",
            "34/34 [==============================] - 1s 21ms/step - loss: 0.9988\n",
            "Epoch 27/100\n",
            "34/34 [==============================] - 1s 20ms/step - loss: 0.9987\n",
            "Epoch 28/100\n",
            "34/34 [==============================] - 1s 22ms/step - loss: 0.9993\n",
            "Epoch 29/100\n",
            "34/34 [==============================] - 1s 22ms/step - loss: 1.0002\n",
            "Epoch 30/100\n",
            "34/34 [==============================] - 1s 20ms/step - loss: 0.9986\n",
            "Epoch 31/100\n",
            "34/34 [==============================] - 1s 21ms/step - loss: 0.9962\n",
            "Epoch 32/100\n",
            "34/34 [==============================] - 1s 21ms/step - loss: 0.9988\n",
            "Epoch 33/100\n",
            "34/34 [==============================] - 1s 23ms/step - loss: 0.9988\n",
            "Epoch 34/100\n",
            "34/34 [==============================] - 1s 21ms/step - loss: 1.0013\n",
            "Epoch 35/100\n",
            "34/34 [==============================] - 1s 20ms/step - loss: 0.9986\n",
            "Epoch 36/100\n",
            "34/34 [==============================] - 1s 23ms/step - loss: 1.0000\n",
            "Epoch 37/100\n",
            "34/34 [==============================] - 1s 21ms/step - loss: 0.9993\n",
            "Epoch 38/100\n",
            "34/34 [==============================] - 1s 21ms/step - loss: 0.9989\n",
            "Epoch 39/100\n",
            "34/34 [==============================] - 1s 21ms/step - loss: 0.9994\n",
            "Epoch 40/100\n",
            "34/34 [==============================] - 1s 21ms/step - loss: 0.9972\n",
            "Epoch 41/100\n",
            "34/34 [==============================] - 1s 22ms/step - loss: 0.9968\n",
            "Epoch 42/100\n",
            "34/34 [==============================] - 1s 21ms/step - loss: 0.9987\n",
            "Epoch 43/100\n",
            "34/34 [==============================] - 1s 20ms/step - loss: 0.9991\n",
            "Epoch 44/100\n",
            "34/34 [==============================] - 1s 20ms/step - loss: 1.0001\n",
            "Epoch 45/100\n",
            "34/34 [==============================] - 1s 22ms/step - loss: 1.0000\n",
            "Epoch 46/100\n",
            "34/34 [==============================] - 1s 21ms/step - loss: 0.9978\n",
            "Epoch 47/100\n",
            "34/34 [==============================] - 1s 22ms/step - loss: 0.9995\n",
            "Epoch 48/100\n",
            "34/34 [==============================] - 1s 21ms/step - loss: 0.9994\n",
            "Epoch 49/100\n",
            "34/34 [==============================] - 1s 22ms/step - loss: 0.9954\n",
            "Epoch 50/100\n",
            "34/34 [==============================] - 1s 22ms/step - loss: 0.9999\n",
            "Epoch 51/100\n",
            "34/34 [==============================] - 1s 23ms/step - loss: 0.9991\n",
            "Epoch 52/100\n",
            "34/34 [==============================] - 1s 23ms/step - loss: 0.9993\n",
            "Epoch 53/100\n",
            "34/34 [==============================] - 1s 23ms/step - loss: 1.0005\n",
            "Epoch 54/100\n",
            "34/34 [==============================] - 1s 21ms/step - loss: 0.9991\n",
            "Epoch 55/100\n",
            "34/34 [==============================] - 1s 24ms/step - loss: 1.0012\n",
            "Epoch 56/100\n",
            "34/34 [==============================] - 1s 21ms/step - loss: 0.9994\n",
            "Epoch 57/100\n",
            "34/34 [==============================] - 1s 20ms/step - loss: 1.0006\n",
            "Epoch 58/100\n",
            "34/34 [==============================] - 1s 22ms/step - loss: 0.9981\n",
            "Epoch 59/100\n",
            "34/34 [==============================] - 1s 22ms/step - loss: 0.9977\n",
            "Epoch 60/100\n",
            "34/34 [==============================] - 1s 20ms/step - loss: 0.9969\n",
            "Epoch 61/100\n",
            "34/34 [==============================] - 1s 20ms/step - loss: 1.0000\n",
            "Epoch 62/100\n",
            "34/34 [==============================] - 1s 21ms/step - loss: 0.9988\n",
            "Epoch 63/100\n",
            "34/34 [==============================] - 1s 21ms/step - loss: 0.9995\n",
            "Epoch 64/100\n",
            "34/34 [==============================] - 1s 22ms/step - loss: 0.9983\n",
            "Epoch 65/100\n",
            "34/34 [==============================] - 1s 22ms/step - loss: 0.9986\n",
            "Epoch 66/100\n",
            "34/34 [==============================] - 1s 22ms/step - loss: 0.9982\n",
            "Epoch 67/100\n",
            "34/34 [==============================] - 1s 23ms/step - loss: 0.9981\n",
            "Epoch 68/100\n",
            "34/34 [==============================] - 1s 23ms/step - loss: 1.0001\n",
            "Epoch 69/100\n",
            "34/34 [==============================] - 1s 23ms/step - loss: 1.0001\n",
            "Epoch 70/100\n",
            "34/34 [==============================] - 1s 22ms/step - loss: 0.9997\n",
            "Epoch 71/100\n",
            "34/34 [==============================] - 1s 22ms/step - loss: 0.9992\n",
            "Epoch 72/100\n",
            "34/34 [==============================] - 1s 22ms/step - loss: 0.9988\n",
            "Epoch 73/100\n",
            "34/34 [==============================] - 1s 24ms/step - loss: 0.9988\n",
            "Epoch 74/100\n",
            "34/34 [==============================] - 1s 22ms/step - loss: 0.9985\n",
            "Epoch 75/100\n",
            "34/34 [==============================] - 1s 22ms/step - loss: 1.0002\n",
            "Epoch 76/100\n",
            "34/34 [==============================] - 1s 21ms/step - loss: 0.9990\n",
            "Epoch 77/100\n",
            "34/34 [==============================] - 1s 21ms/step - loss: 0.9986\n",
            "Epoch 78/100\n",
            "34/34 [==============================] - 1s 21ms/step - loss: 0.9992\n",
            "Epoch 79/100\n",
            "34/34 [==============================] - 1s 21ms/step - loss: 0.9991\n",
            "Epoch 80/100\n",
            "34/34 [==============================] - 1s 21ms/step - loss: 0.9995\n",
            "Epoch 81/100\n",
            "34/34 [==============================] - 1s 21ms/step - loss: 0.9987\n",
            "Epoch 82/100\n",
            "34/34 [==============================] - 1s 21ms/step - loss: 0.9985\n",
            "Epoch 83/100\n",
            "34/34 [==============================] - 1s 20ms/step - loss: 0.9997\n",
            "Epoch 84/100\n",
            "34/34 [==============================] - 1s 21ms/step - loss: 1.0002\n",
            "Epoch 85/100\n",
            "34/34 [==============================] - 1s 20ms/step - loss: 1.0004\n",
            "Epoch 86/100\n",
            "34/34 [==============================] - 1s 20ms/step - loss: 0.9998\n",
            "Epoch 87/100\n",
            "34/34 [==============================] - 1s 20ms/step - loss: 0.9994\n",
            "Epoch 88/100\n",
            "34/34 [==============================] - 1s 21ms/step - loss: 0.9981\n",
            "Epoch 89/100\n",
            "34/34 [==============================] - 1s 21ms/step - loss: 1.0003\n",
            "Epoch 90/100\n",
            "34/34 [==============================] - 1s 21ms/step - loss: 0.9983\n",
            "Epoch 91/100\n",
            "34/34 [==============================] - 1s 22ms/step - loss: 0.9994\n",
            "Epoch 92/100\n",
            "34/34 [==============================] - 1s 20ms/step - loss: 0.9990\n",
            "Epoch 93/100\n",
            "34/34 [==============================] - 1s 20ms/step - loss: 0.9991\n",
            "Epoch 94/100\n",
            "34/34 [==============================] - 1s 21ms/step - loss: 0.9989\n",
            "Epoch 95/100\n",
            "34/34 [==============================] - 1s 20ms/step - loss: 0.9990\n",
            "Epoch 96/100\n",
            "34/34 [==============================] - 1s 25ms/step - loss: 0.9994\n",
            "Epoch 97/100\n",
            "34/34 [==============================] - 1s 20ms/step - loss: 0.9986\n",
            "Epoch 98/100\n",
            "34/34 [==============================] - 1s 21ms/step - loss: 0.9987\n",
            "Epoch 99/100\n",
            "34/34 [==============================] - 1s 23ms/step - loss: 0.9995\n",
            "Epoch 100/100\n",
            "34/34 [==============================] - 1s 21ms/step - loss: 0.9985\n"
          ],
          "name": "stdout"
        }
      ]
    },
    {
      "cell_type": "code",
      "metadata": {
        "id": "QHfxDOkyaBWs",
        "outputId": "e28a808f-851d-4e73-eff3-b1e45c9e9a42",
        "colab": {
          "base_uri": "https://localhost:8080/",
          "height": 265
        }
      },
      "source": [
        "plt.plot(hist[\"loss\"])\n",
        "plt.show()"
      ],
      "execution_count": null,
      "outputs": [
        {
          "output_type": "display_data",
          "data": {
            "image/png": "[encoded data removed]",
            "text/plain": [
              "<Figure size 432x288 with 1 Axes>"
            ]
          },
          "metadata": {
            "tags": [],
            "needs_background": "light"
          }
        }
      ]
    },
    {
      "cell_type": "markdown",
      "metadata": {
        "id": "wOGc8vHZP5km"
      },
      "source": [
        "**<h2>Predicting Outcomes</h2>**"
      ]
    },
    {
      "cell_type": "code",
      "metadata": {
        "id": "tF67oxC1aDjx",
        "outputId": "6678bc73-a780-44dc-a098-803de56ddbf6",
        "colab": {
          "base_uri": "https://localhost:8080/",
          "height": 34
        }
      },
      "source": [
        "x,y = next(iter(testbatches))\n",
        "output = model.predict(x)\n",
        "output.shape"
      ],
      "execution_count": null,
      "outputs": [
        {
          "output_type": "execute_result",
          "data": {
            "text/plain": [
              "(17, 17, 3)"
            ]
          },
          "metadata": {
            "tags": []
          },
          "execution_count": 17
        }
      ]
    },
    {
      "cell_type": "code",
      "metadata": {
        "id": "nLCcdqF0aIC3",
        "outputId": "7d420617-eb7c-4f80-ae93-e03f91179569",
        "colab": {
          "base_uri": "https://localhost:8080/",
          "height": 34
        }
      },
      "source": [
        "p = output.reshape(-3,3)\n",
        "p.shape"
      ],
      "execution_count": null,
      "outputs": [
        {
          "output_type": "execute_result",
          "data": {
            "text/plain": [
              "(289, 3)"
            ]
          },
          "metadata": {
            "tags": []
          },
          "execution_count": 18
        }
      ]
    },
    {
      "cell_type": "code",
      "metadata": {
        "id": "umgq0SYfaZ4E"
      },
      "source": [
        "p = scaler.inverse_transform(p)"
      ],
      "execution_count": null,
      "outputs": []
    },
    {
      "cell_type": "code",
      "metadata": {
        "id": "CXkFaRwvaoii",
        "outputId": "8a9b1a0c-d204-416c-a46e-939bdd00a822",
        "colab": {
          "base_uri": "https://localhost:8080/",
          "height": 34
        }
      },
      "source": [
        "p=p.reshape(-1,1)\n",
        "p.shape"
      ],
      "execution_count": null,
      "outputs": [
        {
          "output_type": "execute_result",
          "data": {
            "text/plain": [
              "(867, 1)"
            ]
          },
          "metadata": {
            "tags": []
          },
          "execution_count": 20
        }
      ]
    },
    {
      "cell_type": "code",
      "metadata": {
        "id": "YJ9zQmhUaqwv",
        "outputId": "8a97c3e6-be9d-455a-b066-587f99f08216",
        "colab": {
          "base_uri": "https://localhost:8080/",
          "height": 34
        }
      },
      "source": [
        "\n",
        "forecast_rain = []\n",
        "forecast_min=[]\n",
        "forecast_max = []\n",
        "for i in range(0,len(p),51):\n",
        "  forecast_max.append(p[i]*100)\n",
        "  forecast_min.append(p[i+1]*100)\n",
        "  forecast_rain.append(p[i+2])\n",
        "\n",
        "print(len(forecast_max),len(forecast_min),len(forecast_rain))"
      ],
      "execution_count": null,
      "outputs": [
        {
          "output_type": "stream",
          "text": [
            "17 17 17\n"
          ],
          "name": "stdout"
        }
      ]
    },
    {
      "cell_type": "code",
      "metadata": {
        "id": "-Ok-LNQJdyBJ"
      },
      "source": [
        "forecast = scaler.inverse_transform(forecast)"
      ],
      "execution_count": null,
      "outputs": []
    },
    {
      "cell_type": "code",
      "metadata": {
        "id": "87jWV9PReCWd",
        "outputId": "420bdd5c-6f8f-41b0-edee-39ceb7f5c4bf",
        "colab": {
          "base_uri": "https://localhost:8080/",
          "height": 312
        }
      },
      "source": [
        "forecast_rain"
      ],
      "execution_count": null,
      "outputs": [
        {
          "output_type": "execute_result",
          "data": {
            "text/plain": [
              "[array([80.473755], dtype=float32),\n",
              " array([78.78191], dtype=float32),\n",
              " array([80.43673], dtype=float32),\n",
              " array([80.6911], dtype=float32),\n",
              " array([79.79448], dtype=float32),\n",
              " array([79.87106], dtype=float32),\n",
              " array([80.368996], dtype=float32),\n",
              " array([80.55778], dtype=float32),\n",
              " array([80.91973], dtype=float32),\n",
              " array([80.686325], dtype=float32),\n",
              " array([79.30123], dtype=float32),\n",
              " array([80.43732], dtype=float32),\n",
              " array([80.15174], dtype=float32),\n",
              " array([80.08134], dtype=float32),\n",
              " array([80.55795], dtype=float32),\n",
              " array([80.89307], dtype=float32),\n",
              " array([80.70153], dtype=float32)]"
            ]
          },
          "metadata": {
            "tags": []
          },
          "execution_count": 24
        }
      ]
    },
    {
      "cell_type": "markdown",
      "metadata": {
        "id": "5ZSgbDjrRdk4"
      },
      "source": [
        "**<h2>Saving Necessary Models</h2>**"
      ]
    },
    {
      "cell_type": "code",
      "metadata": {
        "id": "zTDQPm4JfEPA"
      },
      "source": [
        "model.save(\"/content/drive/My Drive/weather/models/weather.h5\")\n"
      ],
      "execution_count": null,
      "outputs": []
    },
    {
      "cell_type": "code",
      "metadata": {
        "id": "XMWJr1w_gTKt"
      },
      "source": [
        "np.save(\"/content/drive/My Drive/weather/models/weather_data.npy\",weather)"
      ],
      "execution_count": null,
      "outputs": []
    }
  ]
}